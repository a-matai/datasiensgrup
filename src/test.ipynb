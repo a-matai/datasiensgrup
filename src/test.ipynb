{
 "cells": [
  {
   "cell_type": "code",
   "execution_count": null,
   "metadata": {},
   "outputs": [],
   "source": [
    "import scipy.stats as st\n",
    "import numpy as np\n",
    "import pandas as pd\n",
    "\n",
    "from arcgis.geocoding import reverse_geocode\n",
    "from arcgis.geometry import Geometry\n",
    "from arcgis.gis import GIS\n"
   ]
  },
  {
   "cell_type": "code",
   "execution_count": null,
   "metadata": {},
   "outputs": [],
   "source": [
    "lstops = pd.read_csv('../data/CTA_-_System_Information_-_List_of__L__Stops.csv', delimiter=',', quotechar='\"')\n",
    "lstops\n",
    "ca_to_zip = pd.read_csv('../data/ca_zip.csv')\n",
    "ca_to_zip"
   ]
  },
  {
   "cell_type": "code",
   "execution_count": null,
   "metadata": {},
   "outputs": [],
   "source": [
    "\n",
    "df = pd.DataFrame({\n",
    "    'Lat': [41.864712],\n",
    "    'Lon': [-87.65882]\n",
    "\n",
    "def coord_to_zip(df) :\n",
    "    gis = GIS()\n",
    "\n",
    "    def get_zip(df, lon_field, lat_field):\n",
    "        location = reverse_geocode((Geometry({\"x\":float(df[lon_field]), \"y\":float(df[lat_field]), \"spatialReference\":{\"wkid\": 4326}})))\n",
    "        return location['address']['Postal']\n",
    "\n",
    "    })\n",
    "\n",
    "    zipcodes = df.apply(get_zip, axis=1, lat_field='Lat', lon_field='Lon')\n",
    "    return zipcodes\n",
    "\n",
    "coord_to_zip(df)\n",
    "'''\n",
    "adapted from:\n",
    "https://gis.stackexchange.com/questions/352961/convert-lat-lon-to-zip-postal-code-using-python?\n",
    "fbclid=IwAR25An6-uDiY1Lpy5EVPUG15RcrRKj5fL1M86Bt3Svqy_iVRi1YLLfviRT0\n",
    "'''\n"
   ]
  }
 ],
 "metadata": {
  "kernelspec": {
   "display_name": "Python 3",
   "language": "python",
   "name": "python3"
  },
  "language_info": {
   "codemirror_mode": {
    "name": "ipython",
    "version": 3
   },
   "file_extension": ".py",
   "mimetype": "text/x-python",
   "name": "python",
   "nbconvert_exporter": "python",
   "pygments_lexer": "ipython3",
   "version": "3.7.6"
  }
 },
 "nbformat": 4,
 "nbformat_minor": 4
}
