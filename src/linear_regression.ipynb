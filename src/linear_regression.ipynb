{
 "metadata": {
  "language_info": {
   "codemirror_mode": {
    "name": "ipython",
    "version": 3
   },
   "file_extension": ".py",
   "mimetype": "text/x-python",
   "name": "python",
   "nbconvert_exporter": "python",
   "pygments_lexer": "ipython3",
   "version": "3.8.5-final"
  },
  "orig_nbformat": 2,
  "kernelspec": {
   "name": "python38564bitd0f716ec3ba9485fbb6e044caca2f77a",
   "display_name": "Python 3.8.5 64-bit"
  }
 },
 "nbformat": 4,
 "nbformat_minor": 2,
 "cells": [
  {
   "cell_type": "code",
   "execution_count": 1,
   "metadata": {},
   "outputs": [
    {
     "output_type": "stream",
     "name": "stdout",
     "text": [
      "   STOP_ID DIRECTION_ID                 STOP_NAME STATION_NAME  \\\n0    30162            W  18th (54th/Cermak-bound)         18th   \n1    30162            W  18th (54th/Cermak-bound)         18th   \n2    30162            W  18th (54th/Cermak-bound)         18th   \n3    30162            W  18th (54th/Cermak-bound)         18th   \n4    30162            W  18th (54th/Cermak-bound)         18th   \n\n  STATION_DESCRIPTIVE_NAME  MAP_ID   ADA    RED   BLUE      G  ...      Y  \\\n0         18th (Pink Line)   40830  True  False  False  False  ...  False   \n1         18th (Pink Line)   40830  True  False  False  False  ...  False   \n2         18th (Pink Line)   40830  True  False  False  False  ...  False   \n3         18th (Pink Line)   40830  True  False  False  False  ...  False   \n4         18th (Pink Line)   40830  True  False  False  False  ...  False   \n\n    Pnk      O               Location        Lat        Lon   zips  \\\n0  True  False  41.857908, -87.669147  41.857908 -87.669147  60608   \n1  True  False  41.857908, -87.669147  41.857908 -87.669147  60608   \n2  True  False  41.857908, -87.669147  41.857908 -87.669147  60608   \n3  True  False  41.857908, -87.669147  41.857908 -87.669147  60608   \n4  True  False  41.857908, -87.669147  41.857908 -87.669147  60608   \n\n   Community Area  Zipcode  Pop2010  \n0              28    60608     7667  \n1              29    60608     2283  \n2              30    60608    16654  \n3              31    60608    34380  \n4              59    60608     6594  \n\n[5 rows x 23 columns]\nIndex(['STOP_ID', 'DIRECTION_ID', 'STOP_NAME', 'STATION_NAME',\n       'STATION_DESCRIPTIVE_NAME', 'MAP_ID', 'ADA', 'RED', 'BLUE', 'G', 'BRN',\n       'P', 'Pexp', 'Y', 'Pnk', 'O', 'Location', 'Lat', 'Lon', 'zips',\n       'Community Area', 'Zipcode', 'Pop2010'],\n      dtype='object')\n   Community  Pop2010         w      total\n0          1    63484  0.021921  2896016.0\n1          2    73199  0.025276        NaN\n2          3    63551  0.021944        NaN\n3          4    44574  0.015391        NaN\n4          5    31895  0.011013        NaN\n"
     ]
    }
   ],
   "source": [
    "import pandas as pd\n",
    "\n",
    "# This notebook will set up the data we need to run our linear regressions.\n",
    "\n",
    "# First, load the datasets we will need.\n",
    "pop = pd.read_csv(\"../data/CA_pop.csv\")\n",
    "crime = pd.read_csv(\"../data/clean_data.csv\")\n",
    "lstops = pd.read_csv(\"../data/lstops_localized.csv\")\n",
    "parks = pd.read_csv(\"../data/parks_localized.csv\")\n",
    "#print(CA_pop.head())\n",
    "print(lstops.head())\n",
    "print(lstops.columns)\n",
    "#print(parks.columns)\n",
    "print(pop.head())\n"
   ]
  },
  {
   "cell_type": "code",
   "execution_count": 2,
   "metadata": {},
   "outputs": [
    {
     "output_type": "stream",
     "name": "stdout",
     "text": [
      "   Community Area        Acres\n0               1   284.460000\n1               2   390.560000\n2               3    30.740000\n3               4   389.422277\n4               5  1395.020000\n\n\n   Community Area  Num L Stops\n0              32           50\n1              28           48\n2              24           38\n3              29           36\n4               7           36\n"
     ]
    }
   ],
   "source": [
    "# Now we need to get the columns that we need and build our data frames\n",
    "# We will make two data frames: crime_time and conditions\n",
    "# crime_time: Crime rates by Community \n",
    "# conditions: Acerage of parks and number of L train stops by Community\n",
    "\n",
    "# First, we'll make conditions\n",
    "\n",
    "parks1 = parks.filter(['ACRES','Community Area','Pop2010'], axis=1)\n",
    "parks1 = parks1.groupby('Community Area')[['ACRES']].agg('sum')\n",
    "parks1 = parks1.reset_index()\n",
    "parks1.columns = ['Community Area','Acres']\n",
    "print(parks1.head())\n",
    "\n",
    "print()\n",
    "print()\n",
    "\n",
    "lstops1 = lstops['Community Area'].value_counts()\n",
    "lstops1 = lstops1.reset_index()\n",
    "lstops1.columns = ['Community Area','Num L Stops']\n",
    "print(lstops1.head())\n",
    "\n",
    "# Do the same sort of grouping for any other datasets we want to consider"
   ]
  },
  {
   "cell_type": "code",
   "execution_count": 3,
   "metadata": {},
   "outputs": [
    {
     "output_type": "stream",
     "name": "stdout",
     "text": [
      "   Community Area        Acres  Num L Stops         w\n0               1   284.460000           16  0.021921\n1               2   390.560000           16  0.025276\n2               3    30.740000           22  0.021944\n3               4   389.422277           32  0.015391\n4               5  1395.020000           34  0.011013\n"
     ]
    }
   ],
   "source": [
    "# merge the datasets now to get all of the attributes of each community\n",
    "# in one place.\n",
    "# For now, we are only looking at two attributes, so we do a single merge\n",
    "\n",
    "conditions = parks1.merge(lstops1)\n",
    "#print(conditions.head())\n",
    "#print(pop.head())\n",
    "weights = pop.filter(['Community','pop2010','w'])\n",
    "weights = weights.rename(columns={'Community':'Community Area'})\n",
    "#print(weights.columns)\n",
    "conditions = conditions.merge(weights)\n",
    "print(conditions.head())\n",
    "# Now conditions dataframe is ready and has all the information we need\n",
    "# (until we examine more factors beyond Acres of park-space and number of L stops)."
   ]
  },
  {
   "cell_type": "code",
   "execution_count": 7,
   "metadata": {},
   "outputs": [
    {
     "output_type": "stream",
     "name": "stdout",
     "text": [
      "   Month  Year  Community Area\n0      1  2001            45.0\n1     10  2017            73.0\n2      3  2017            70.0\n3      9  2017            42.0\n4      8  2017            32.0\n   Month  Year  Community Area\n1     10  2017            73.0\n2      3  2017            70.0\n3      9  2017            42.0\n4      8  2017            32.0\n5      1  2015            65.0\nThe following dataframe has the number of crimes in each community for each month since Jan 2015:\nYear  Month  Community Area\n2015  1      1.0               295\n             2.0               251\n             3.0               245\n             4.0               156\n             5.0               112\nName: Community Area, dtype: int64\nYear  Month\n2015  1        20918\n      2        16383\n      3        21668\n      4        21714\n      5        23690\n               ...  \n2020  7        19351\n      8        19612\n      9        17607\n      10       17925\n      11       11697\nName: Community Area, Length: 71, dtype: int64\n"
     ]
    },
    {
     "output_type": "error",
     "ename": "TypeError",
     "evalue": "<lambda>() missing 1 required positional argument: 't'",
     "traceback": [
      "\u001b[0;31m---------------------------------------------------------------------------\u001b[0m",
      "\u001b[0;31mTypeError\u001b[0m                                 Traceback (most recent call last)",
      "\u001b[0;32m<ipython-input-7-ad5836fe5517>\u001b[0m in \u001b[0;36m<module>\u001b[0;34m\u001b[0m\n\u001b[1;32m     28\u001b[0m \u001b[0;31m# Calculate the rate and complete the dataframe\u001b[0m\u001b[0;34m\u001b[0m\u001b[0;34m\u001b[0m\u001b[0;34m\u001b[0m\u001b[0m\n\u001b[1;32m     29\u001b[0m \u001b[0mcalculate_rate\u001b[0m \u001b[0;34m=\u001b[0m \u001b[0;32mlambda\u001b[0m \u001b[0mc\u001b[0m\u001b[0;34m,\u001b[0m \u001b[0mt\u001b[0m \u001b[0;34m:\u001b[0m \u001b[0mc\u001b[0m\u001b[0;34m.\u001b[0m\u001b[0mCi\u001b[0m\u001b[0;34m/\u001b[0m\u001b[0mt\u001b[0m\u001b[0;34m.\u001b[0m\u001b[0mC\u001b[0m\u001b[0;34m\u001b[0m\u001b[0;34m\u001b[0m\u001b[0m\n\u001b[0;32m---> 30\u001b[0;31m \u001b[0mcrime_time\u001b[0m \u001b[0;34m=\u001b[0m \u001b[0mcrime2\u001b[0m\u001b[0;34m.\u001b[0m\u001b[0mapply\u001b[0m\u001b[0;34m(\u001b[0m\u001b[0mcalculate_rate\u001b[0m\u001b[0;34m)\u001b[0m\u001b[0;31m# = crime2.combine(totals, calculate_rate)\u001b[0m\u001b[0;34m\u001b[0m\u001b[0;34m\u001b[0m\u001b[0m\n\u001b[0m\u001b[1;32m     31\u001b[0m \u001b[0mprint\u001b[0m\u001b[0;34m(\u001b[0m\u001b[0;34m\"\\nCompleted crime_time dataset:\\n\"\u001b[0m\u001b[0;34m)\u001b[0m\u001b[0;34m\u001b[0m\u001b[0;34m\u001b[0m\u001b[0m\n\u001b[1;32m     32\u001b[0m \u001b[0mprint\u001b[0m\u001b[0;34m(\u001b[0m\u001b[0mcrime_time\u001b[0m\u001b[0;34m.\u001b[0m\u001b[0mhead\u001b[0m\u001b[0;34m(\u001b[0m\u001b[0;34m)\u001b[0m\u001b[0;34m)\u001b[0m\u001b[0;34m\u001b[0m\u001b[0;34m\u001b[0m\u001b[0m\n",
      "\u001b[0;32m~/.local/lib/python3.8/site-packages/pandas/core/series.py\u001b[0m in \u001b[0;36mapply\u001b[0;34m(self, func, convert_dtype, args, **kwds)\u001b[0m\n\u001b[1;32m   4210\u001b[0m             \u001b[0;32melse\u001b[0m\u001b[0;34m:\u001b[0m\u001b[0;34m\u001b[0m\u001b[0;34m\u001b[0m\u001b[0m\n\u001b[1;32m   4211\u001b[0m                 \u001b[0mvalues\u001b[0m \u001b[0;34m=\u001b[0m \u001b[0mself\u001b[0m\u001b[0;34m.\u001b[0m\u001b[0mastype\u001b[0m\u001b[0;34m(\u001b[0m\u001b[0mobject\u001b[0m\u001b[0;34m)\u001b[0m\u001b[0;34m.\u001b[0m\u001b[0m_values\u001b[0m\u001b[0;34m\u001b[0m\u001b[0;34m\u001b[0m\u001b[0m\n\u001b[0;32m-> 4212\u001b[0;31m                 \u001b[0mmapped\u001b[0m \u001b[0;34m=\u001b[0m \u001b[0mlib\u001b[0m\u001b[0;34m.\u001b[0m\u001b[0mmap_infer\u001b[0m\u001b[0;34m(\u001b[0m\u001b[0mvalues\u001b[0m\u001b[0;34m,\u001b[0m \u001b[0mf\u001b[0m\u001b[0;34m,\u001b[0m \u001b[0mconvert\u001b[0m\u001b[0;34m=\u001b[0m\u001b[0mconvert_dtype\u001b[0m\u001b[0;34m)\u001b[0m\u001b[0;34m\u001b[0m\u001b[0;34m\u001b[0m\u001b[0m\n\u001b[0m\u001b[1;32m   4213\u001b[0m \u001b[0;34m\u001b[0m\u001b[0m\n\u001b[1;32m   4214\u001b[0m         \u001b[0;32mif\u001b[0m \u001b[0mlen\u001b[0m\u001b[0;34m(\u001b[0m\u001b[0mmapped\u001b[0m\u001b[0;34m)\u001b[0m \u001b[0;32mand\u001b[0m \u001b[0misinstance\u001b[0m\u001b[0;34m(\u001b[0m\u001b[0mmapped\u001b[0m\u001b[0;34m[\u001b[0m\u001b[0;36m0\u001b[0m\u001b[0;34m]\u001b[0m\u001b[0;34m,\u001b[0m \u001b[0mSeries\u001b[0m\u001b[0;34m)\u001b[0m\u001b[0;34m:\u001b[0m\u001b[0;34m\u001b[0m\u001b[0;34m\u001b[0m\u001b[0m\n",
      "\u001b[0;32mpandas/_libs/lib.pyx\u001b[0m in \u001b[0;36mpandas._libs.lib.map_infer\u001b[0;34m()\u001b[0m\n",
      "\u001b[0;31mTypeError\u001b[0m: <lambda>() missing 1 required positional argument: 't'"
     ]
    }
   ],
   "source": [
    "# Now we will make the crime_time dataframe.\n",
    "# We will calculate the crime rate for each Community for every month in the past\n",
    "# five years.\n",
    "\n",
    "# First, filter out the data before 2015\n",
    "# Second, calculate crime rate\n",
    "#   rate := total crime in that community / total crime that month\n",
    "# Third, build the crime_time dataset\n",
    "crime1 = crime.filter(['Month','Year','Community Area'])\n",
    "print(crime1.head())\n",
    "\n",
    "after_2015 = crime1['Year'] >= 2015\n",
    "crime1 = crime1[after_2015]\n",
    "crime_CA = crime1.copy()\n",
    "print(crime1.head())\n",
    "\n",
    "crime1.set_index('Year')\n",
    "print(\"The following dataframe has the number of crimes in each community for each month since Jan 2015:\")\n",
    "crime2 = crime1.groupby(['Year','Month','Community Area'])['Community Area'].count()\n",
    "crime2.columns = ['Month','Year','Community Area','Ci']\n",
    "print(crime2.head())\n",
    "\n",
    "# Get the total crimes reported per month\n",
    "totals = crime2.groupby(['Year','Month']).agg('sum')\n",
    "totals.columns = ['Year','Month','C']\n",
    "print(totals.head(100))\n",
    "\n",
    "'''\n",
    "TODO: \n",
    "Need to find a way to convert the number of crimes committed in each community\n",
    "to a decimal fraction based on the total crime committed that month.\n",
    "I have both dataframes made, just not sure how best to apply the conversion.\n",
    "This is where I am leaving off.\n",
    "'''\n",
    "\n",
    "# Calculate the rate and complete the dataframe\n",
    "calculate_rate = lambda c, t : c.Ci / t.C\n",
    "crime_time = crime2.apply(calculate_rate)# = crime2.combine(totals, calculate_rate)\n",
    "print(\"\\nCompleted crime_time dataset:\\n\")\n",
    "print(crime_time.head())"
   ]
  },
  {
   "cell_type": "code",
   "execution_count": null,
   "metadata": {},
   "outputs": [],
   "source": [
    "print(\"We are now ready to do the linear regressions.\")\n",
    "print(\"LMAO\")"
   ]
  }
 ]
}