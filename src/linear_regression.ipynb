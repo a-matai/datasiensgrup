{
 "cells": [
  {
   "cell_type": "code",
   "execution_count": 7,
   "metadata": {},
   "outputs": [
    {
     "name": "stdout",
     "output_type": "stream",
     "text": [
      "   STOP_ID DIRECTION_ID                 STOP_NAME STATION_NAME  \\\n",
      "0    30162            W  18th (54th/Cermak-bound)         18th   \n",
      "1    30162            W  18th (54th/Cermak-bound)         18th   \n",
      "2    30162            W  18th (54th/Cermak-bound)         18th   \n",
      "3    30162            W  18th (54th/Cermak-bound)         18th   \n",
      "4    30162            W  18th (54th/Cermak-bound)         18th   \n",
      "\n",
      "  STATION_DESCRIPTIVE_NAME  MAP_ID   ADA    RED   BLUE      G  ...      Y  \\\n",
      "0         18th (Pink Line)   40830  True  False  False  False  ...  False   \n",
      "1         18th (Pink Line)   40830  True  False  False  False  ...  False   \n",
      "2         18th (Pink Line)   40830  True  False  False  False  ...  False   \n",
      "3         18th (Pink Line)   40830  True  False  False  False  ...  False   \n",
      "4         18th (Pink Line)   40830  True  False  False  False  ...  False   \n",
      "\n",
      "    Pnk      O               Location        Lat        Lon   zips  \\\n",
      "0  True  False  41.857908, -87.669147  41.857908 -87.669147  60608   \n",
      "1  True  False  41.857908, -87.669147  41.857908 -87.669147  60608   \n",
      "2  True  False  41.857908, -87.669147  41.857908 -87.669147  60608   \n",
      "3  True  False  41.857908, -87.669147  41.857908 -87.669147  60608   \n",
      "4  True  False  41.857908, -87.669147  41.857908 -87.669147  60608   \n",
      "\n",
      "   Community Area  Zipcode  Pop2010  \n",
      "0              28    60608     7667  \n",
      "1              29    60608     2283  \n",
      "2              30    60608    16654  \n",
      "3              31    60608    34380  \n",
      "4              59    60608     6594  \n",
      "\n",
      "[5 rows x 23 columns]\n",
      "Index(['STOP_ID', 'DIRECTION_ID', 'STOP_NAME', 'STATION_NAME',\n",
      "       'STATION_DESCRIPTIVE_NAME', 'MAP_ID', 'ADA', 'RED', 'BLUE', 'G', 'BRN',\n",
      "       'P', 'Pexp', 'Y', 'Pnk', 'O', 'Location', 'Lat', 'Lon', 'zips',\n",
      "       'Community Area', 'Zipcode', 'Pop2010'],\n",
      "      dtype='object')\n",
      "   Community  Pop2010         w      total\n",
      "0          1    63484  0.021921  2896016.0\n",
      "1          2    73199  0.025276        NaN\n",
      "2          3    63551  0.021944        NaN\n",
      "3          4    44574  0.015391        NaN\n",
      "4          5    31895  0.011013        NaN\n"
     ]
    }
   ],
   "source": [
    "import pandas as pd\n",
    "\n",
    "# This notebook will set up the data we need to run our linear regressions.\n",
    "\n",
    "# First, load the datasets we will need.\n",
    "pop = pd.read_csv(\"../data/CA_pop.csv\")\n",
    "crime = pd.read_csv(\"../data/clean_data.csv\", low_memory=False)\n",
    "lstops = pd.read_csv(\"../data/lstops_localized.csv\")\n",
    "parks = pd.read_csv(\"../data/parks_localized.csv\")\n",
    "#print(CA_pop.head())\n",
    "print(lstops.head())\n",
    "print(lstops.columns)\n",
    "#print(parks.columns)\n",
    "print(pop.head())\n"
   ]
  },
  {
   "cell_type": "code",
   "execution_count": 8,
   "metadata": {},
   "outputs": [
    {
     "name": "stdout",
     "output_type": "stream",
     "text": [
      "   Community Area        Acres\n",
      "0               1   284.460000\n",
      "1               2   390.560000\n",
      "2               3    30.740000\n",
      "3               4   389.422277\n",
      "4               5  1395.020000\n",
      "\n",
      "\n",
      "   Community Area  Num L Stops\n",
      "0              32           50\n",
      "1              28           48\n",
      "2              24           38\n",
      "3              29           36\n",
      "4               7           36\n"
     ]
    }
   ],
   "source": [
    "# Now we need to get the columns that we need and build our data frames\n",
    "# We will make two data frames: crime_time and conditions\n",
    "# crime_time: Crime rates by Community \n",
    "# conditions: Acerage of parks and number of L train stops by Community\n",
    "\n",
    "# First, we'll make conditions\n",
    "\n",
    "parks1 = parks.filter(['ACRES','Community Area','Pop2010'], axis=1)\n",
    "parks1 = parks1.groupby('Community Area')[['ACRES']].agg('sum')\n",
    "parks1 = parks1.reset_index()\n",
    "parks1.columns = ['Community Area','Acres']\n",
    "print(parks1.head())\n",
    "\n",
    "print()\n",
    "print()\n",
    "\n",
    "lstops1 = lstops['Community Area'].value_counts()\n",
    "lstops1 = lstops1.reset_index()\n",
    "lstops1.columns = ['Community Area','Num L Stops']\n",
    "print(lstops1.head())\n",
    "\n",
    "# Do the same sort of grouping for any other datasets we want to consider"
   ]
  },
  {
   "cell_type": "code",
   "execution_count": 9,
   "metadata": {},
   "outputs": [
    {
     "name": "stdout",
     "output_type": "stream",
     "text": [
      "   Community Area        Acres  Num L Stops         w\n",
      "0               1   284.460000           16  0.021921\n",
      "1               2   390.560000           16  0.025276\n",
      "2               3    30.740000           22  0.021944\n",
      "3               4   389.422277           32  0.015391\n",
      "4               5  1395.020000           34  0.011013\n"
     ]
    }
   ],
   "source": [
    "# merge the datasets now to get all of the attributes of each community\n",
    "# in one place.\n",
    "# For now, we are only looking at two attributes, so we do a single merge\n",
    "\n",
    "conditions = parks1.merge(lstops1)\n",
    "#print(conditions.head())\n",
    "#print(pop.head())\n",
    "weights = pop.filter(['Community','pop2010','w'])\n",
    "weights = weights.rename(columns={'Community':'Community Area'})\n",
    "#print(weights.columns)\n",
    "conditions = conditions.merge(weights)\n",
    "print(conditions.head())\n",
    "# Now conditions dataframe is ready and has all the information we need\n",
    "# (until we examine more factors beyond Acres of park-space and number of L stops)."
   ]
  },
  {
   "cell_type": "code",
   "execution_count": 144,
   "metadata": {},
   "outputs": [
    {
     "name": "stdout",
     "output_type": "stream",
     "text": [
      "   Month  Year  Community Area\n",
      "0      1  2001            45.0\n",
      "1     10  2017            73.0\n",
      "2      3  2017            70.0\n",
      "3      9  2017            42.0\n",
      "4      8  2017            32.0\n",
      "   Month  Year  Community Area\n",
      "1     10  2017            73.0\n",
      "2      3  2017            70.0\n",
      "3      9  2017            42.0\n",
      "4      8  2017            32.0\n",
      "5      1  2015            65.0\n",
      "The following dataframe has the number of crimes in each community for each month since Jan 2015:\n",
      "Year  Month  Community Area\n",
      "2015  1      1.0               295\n",
      "             2.0               251\n",
      "             3.0               245\n",
      "             4.0               156\n",
      "             5.0               112\n",
      "                              ... \n",
      "2020  11     73.0              151\n",
      "             74.0               36\n",
      "             75.0              121\n",
      "             76.0               64\n",
      "             77.0              115\n",
      "Name: Community Area, Length: 5467, dtype: int64\n",
      "Year  Month\n",
      "2015  1        20918\n",
      "      2        16383\n",
      "      3        21668\n",
      "      4        21714\n",
      "      5        23690\n",
      "               ...  \n",
      "2020  7        19349\n",
      "      8        19610\n",
      "      9        17604\n",
      "      10       17915\n",
      "      11       11218\n",
      "Name: Community Area, Length: 71, dtype: int64\n"
     ]
    }
   ],
   "source": [
    "# Now we will make the crime_time dataframe.\n",
    "# We will calculate the crime rate for each Community for every month in the past\n",
    "# five years.\n",
    "\n",
    "# First, filter out the data before 2015\n",
    "# Second, calculate crime rate\n",
    "#   rate := total crime in that community / total crime that month\n",
    "# Third, build the crime_time dataset\n",
    "crime1 = crime.filter(['Month','Year','Community Area'])\n",
    "print(crime1.head())\n",
    "\n",
    "after_2015 = crime1['Year'] >= 2015\n",
    "crime1 = crime1[after_2015]\n",
    "crime_CA = crime1.copy()\n",
    "print(crime1.head())\n",
    "\n",
    "crime1.set_index('Year')\n",
    "print(\"The following dataframe has the number of crimes in each community for each month since Jan 2015:\")\n",
    "crime2 = crime1.groupby(['Year','Month','Community Area'])['Community Area'].count()\n",
    "crime2.columns = ['Month','Year','Community Area','Ci']\n",
    "print(crime2)\n",
    "\n",
    "# Get the total crimes reported per month\n",
    "totals = crime2.groupby(['Year','Month']).agg('sum')\n",
    "totals.columns = ['Year','Month','C']\n",
    "print(totals)\n"
   ]
  },
  {
   "cell_type": "code",
   "execution_count": 176,
   "metadata": {},
   "outputs": [
    {
     "name": "stdout",
     "output_type": "stream",
     "text": [
      "5469\n",
      "5467\n"
     ]
    }
   ],
   "source": [
    "'''\n",
    "TODO: \n",
    "Need to find a way to convert the number of crimes committed in each community\n",
    "to a decimal fraction based on the total crime committed that month.\n",
    "I have both dataframes made, just not sure how best to apply the conversion.\n",
    "This is where I am leaving off.\n",
    "'''\n",
    "#print(crime1)\n",
    "\n",
    "list1 = []\n",
    "list2 = []\n",
    "\n",
    "for x in crime2:\n",
    "    list1.append(x)\n",
    "for y in totals:\n",
    "    i = 77\n",
    "    while i != 0:\n",
    "        list2.append(y)\n",
    "        i -= 1\n",
    "\n",
    "print(len(list1))\n",
    "print(len(list2))\n",
    "\n",
    "#wow_crimes = pd.merge(crime2, totals, left_on=crime2)\n",
    "# Calculate the rate and complete the dataframe\n",
    "#calculate_rate = lambda c, t : c.Ci / t.C\n",
    "#crime_time = crime2.apply(calculate_rate)# = crime2.combine(totals, calculate_rate)\n",
    "#print(\"\\nCompleted crime_time dataset:\\n\")\n",
    "#print(crime_time.head())"
   ]
  },
  {
   "cell_type": "code",
   "execution_count": 163,
   "metadata": {},
   "outputs": [
    {
     "name": "stdout",
     "output_type": "stream",
     "text": [
      "We are now ready to do the linear regressions.\n",
      "LMAO\n"
     ]
    }
   ],
   "source": [
    "print(\"We are now ready to do the linear regressions.\")\n",
    "print(\"LMAO\")"
   ]
  },
  {
   "cell_type": "code",
   "execution_count": null,
   "metadata": {},
   "outputs": [],
   "source": []
  }
 ],
 "metadata": {
  "kernelspec": {
   "display_name": "env",
   "language": "python",
   "name": "env"
  },
  "language_info": {
   "codemirror_mode": {
    "name": "ipython",
    "version": 3
   },
   "file_extension": ".py",
   "mimetype": "text/x-python",
   "name": "python",
   "nbconvert_exporter": "python",
   "pygments_lexer": "ipython3",
   "version": "3.7.6"
  }
 },
 "nbformat": 4,
 "nbformat_minor": 2
}
