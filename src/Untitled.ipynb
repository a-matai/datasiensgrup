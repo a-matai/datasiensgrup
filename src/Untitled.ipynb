{
 "cells": [
  {
   "cell_type": "code",
   "execution_count": 2,
   "metadata": {},
   "outputs": [],
   "source": [
    "import pandas as pd\n",
    "\n",
    "# NB: You have to have the Crimes dataset in your data folder already.\n",
    "# download from: https://data.cityofchicago.org/Public-Safety/Crimes-2001-to-Present/ijzp-q8t2/data?fbclid=IwAR0bFz89WTpotKU6dbm6VIudWC3kb5jm0s8uNKGMrLXnkq-0tLO68pmg40c\n",
    "\n",
    "\n",
    "df = pd.read_csv(\"../data/Crimes_-_2001_to_Present.csv\", na_values = \" \", low_memory=False)\n",
    "\n",
    "#Remove data before 2010\n",
    "list = df[df['Year'] < 2010].index.tolist()\n",
    "df.drop(list, inplace = False)\n",
    "\n",
    "#Delete rows that have a missing Community Area value\n",
    "list = df[df['Community Area'].isnull()].index.tolist()\n",
    "df.drop(list,inplace = True)\n",
    "df.index = range(len(df))"
   ]
  },
  {
   "cell_type": "code",
   "execution_count": 3,
   "metadata": {},
   "outputs": [],
   "source": [
    "#split the date-time into date and time\n",
    "date = df[\"Date\"].str.split(\" \", n = 1, expand = True)\n",
    "#split date into month day year\n",
    "date_spec = date[0].str.split(\"/\", n = 2, expand = True)\n",
    "df[\"Month\"] = date_spec[0]\n",
    "df[\"Day\"] = date_spec[1]\n",
    "df[\"Time\"] = date[1]\n",
    "df[\"Date\"] = date[0]"
   ]
  },
  {
   "cell_type": "code",
   "execution_count": 30,
   "metadata": {},
   "outputs": [
    {
     "name": "stdout",
     "output_type": "stream",
     "text": [
      "10         OTHER OFFENSE\n",
      "51         OTHER OFFENSE\n",
      "60         OTHER OFFENSE\n",
      "69         OTHER OFFENSE\n",
      "70         OTHER OFFENSE\n",
      "               ...      \n",
      "6623427    OTHER OFFENSE\n",
      "6623430    OTHER OFFENSE\n",
      "6623443    OTHER OFFENSE\n",
      "6623463    OTHER OFFENSE\n",
      "6623471    OTHER OFFENSE\n",
      "Name: Primary Type, Length: 757856, dtype: object\n"
     ]
    }
   ],
   "source": [
    "#add a crime label column using https://www.justia.com/criminal/offenses/ categories\n",
    "property_crimes = \"BURGLARY|THEFT|LARCENY|ROBBERY|SHOPLIFTING|PROPERTY|DAMAGE\"\n",
    "personal_crimes = \"ASSAULT|BATTERY|ARSON|ABUSE|KIDNAPPING|RAPE|SEX|CHILDREN|HOMICIDE|MURDER\"\n",
    "financial_crimes = \"FRAUD|DECEPTIVE PRACTICE|TAX|BLACKMAIL\"\n",
    "statutory_crimes = \"NARCOTIC|ALCOHOL|DRUG|WEAPONS\"\n",
    "\n",
    "df[\"type\"] = \"Other\"\n",
    "\n",
    "mask = df['Primary Type'].str.contains(property_crimes)\n",
    "df.loc[mask, 'type'] = \"PROPERTY\"\n",
    "\n",
    "mask = df['Primary Type'].str.contains(personal_crimes)\n",
    "df.loc[mask, 'type'] = \"PERSONAL\"\n",
    "\n",
    "mask = df['Primary Type'].str.contains(financial_crimes)\n",
    "df.loc[mask, 'type'] = \"FINANCIAL\"\n",
    "\n",
    "mask = df['Primary Type'].str.contains(statutory_crimes)\n",
    "df.loc[mask, 'type'] = \"STATUATORY\"\n"
   ]
  },
  {
   "cell_type": "code",
   "execution_count": null,
   "metadata": {},
   "outputs": [],
   "source": []
  }
 ],
 "metadata": {
  "kernelspec": {
   "display_name": "Python 3",
   "language": "python",
   "name": "python3"
  },
  "language_info": {
   "codemirror_mode": {
    "name": "ipython",
    "version": 3
   },
   "file_extension": ".py",
   "mimetype": "text/x-python",
   "name": "python",
   "nbconvert_exporter": "python",
   "pygments_lexer": "ipython3",
   "version": "3.8.3"
  }
 },
 "nbformat": 4,
 "nbformat_minor": 4
}
