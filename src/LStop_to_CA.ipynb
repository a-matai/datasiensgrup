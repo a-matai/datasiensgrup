{
 "cells": [
  {
   "cell_type": "code",
   "execution_count": 3,
   "metadata": {},
   "outputs": [],
   "source": [
    "import scipy.stats as st\n",
    "import numpy as np\n",
    "import pandas as pd\n",
    "from arcgis.geocoding import reverse_geocode\n",
    "from arcgis.geometry import Geometry\n",
    "from arcgis.gis import GIS\n"
   ]
  },
  {
   "cell_type": "code",
   "execution_count": 121,
   "metadata": {},
   "outputs": [],
   "source": [
    "#import lstop data\n",
    "lstops = pd.read_csv('../data/lstops.csv', delimiter=',', quotechar='\"')\n",
    "#check column\n",
    "lstops[\"Location\"] = lstops[\"Location\"].str.replace(\"(\",\"\") \n",
    "lstops[\"Location\"] = lstops[\"Location\"].str.replace(\")\",\"\") \n",
    "lat_list = []\n",
    "lon_list = []\n",
    "for each in lstops[\"Location\"]:\n",
    "    x = each.split(\",\")\n",
    "    lat = float(x[0])\n",
    "    lon = float(x[1])\n",
    "    lat_list.append(lat)\n",
    "    lon_list.append(lon)\n",
    "\n",
    "lstops[\"Lat\"] = lat_list\n",
    "lstops[\"Lon\"] = lon_list"
   ]
  },
  {
   "cell_type": "code",
   "execution_count": 122,
   "metadata": {},
   "outputs": [],
   "source": [
    "#import ca to zip data\n",
    "ca_to_zip = pd.read_csv('../data/ca_zip.csv',header=None)\n",
    "ca_to_zip = ca_to_zip.drop(ca_to_zip.index[0])\n",
    "ca_to_zip.columns = [\"Community Area\", \"Zipcode\", \"Pop2010\"]\n"
   ]
  },
  {
   "cell_type": "code",
   "execution_count": 124,
   "metadata": {},
   "outputs": [],
   "source": [
    "#adapted from:\n",
    "#https://gis.stackexchange.com/questions/352961/convert-lat-lon-to-zip-postal-code-using-python?\n",
    "#fbclid=IwAR25An6-uDiY1Lpy5EVPUG15RcrRKj5fL1M86Bt3Svqy_iVRi1YLLfviRT0\n",
    "df = lstops\n",
    "\n",
    "gis = GIS()\n",
    "\n",
    "def get_zip(df, lon_field, lat_field):\n",
    "    location = reverse_geocode((Geometry({\"x\":float(df[lon_field]), \"y\":float(df[lat_field]), \"spatialReference\":{\"wkid\": 4326}})))\n",
    "    return location['address']['Postal']"
   ]
  },
  {
   "cell_type": "code",
   "execution_count": 125,
   "metadata": {},
   "outputs": [],
   "source": [
    "#apply zipcodes\n",
    "lstops[\"zips\"] = df.apply(get_zip, axis=1, lat_field='Lat', lon_field='Lon')\n",
    "#merge based on ca_to_zip\n",
    "lstops = lstops.merge(ca_to_zip, left_on=\"zips\", right_on=\"Zipcode\")\n",
    "#output csv\n",
    "lstops.to_csv(\"../data/lstops_localized.csv\",index=False)"
   ]
  },
  {
   "cell_type": "code",
   "execution_count": 120,
   "metadata": {},
   "outputs": [],
   "source": []
  },
  {
   "cell_type": "code",
   "execution_count": null,
   "metadata": {},
   "outputs": [],
   "source": []
  }
 ],
 "metadata": {
  "kernelspec": {
   "display_name": "Python 3",
   "language": "python",
   "name": "python3"
  },
  "language_info": {
   "codemirror_mode": {
    "name": "ipython",
    "version": 3
   },
   "file_extension": ".py",
   "mimetype": "text/x-python",
   "name": "python",
   "nbconvert_exporter": "python",
   "pygments_lexer": "ipython3",
   "version": "3.7.6"
  }
 },
 "nbformat": 4,
 "nbformat_minor": 4
}
