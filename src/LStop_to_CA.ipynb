{
 "cells": [
  {
   "cell_type": "code",
   "execution_count": 6,
   "metadata": {},
   "outputs": [],
   "source": [
    "import scipy.stats as st\n",
    "import numpy as np\n",
    "import pandas as pd\n",
    "from arcgis.geocoding import reverse_geocode\n",
    "from arcgis.geometry import Geometry\n",
    "from arcgis.gis import GIS\n"
   ]
  },
  {
   "cell_type": "code",
   "execution_count": 14,
   "metadata": {},
   "outputs": [
    {
     "output_type": "stream",
     "name": "stdout",
     "text": [
      "   STOP_ID DIRECTION_ID                        STOP_NAME  \\\n0    30162            W         18th (54th/Cermak-bound)   \n1    30161            E                18th (Loop-bound)   \n2    30022            N         35th/Archer (Loop-bound)   \n3    30023            S       35th/Archer (Midway-bound)   \n4    30214            S  35-Bronzeville-IIT (63rd-bound)   \n\n           STATION_NAME           STATION_DESCRIPTIVE_NAME  MAP_ID   ADA  \\\n0                  18th                   18th (Pink Line)   40830  True   \n1                  18th                   18th (Pink Line)   40830  True   \n2           35th/Archer          35th/Archer (Orange Line)   40120  True   \n3           35th/Archer          35th/Archer (Orange Line)   40120  True   \n4  35th-Bronzeville-IIT  35th-Bronzeville-IIT (Green Line)   41120  True   \n\n     RED   BLUE      G    BRN      P   Pexp      Y    Pnk      O  \\\n0  False  False  False  False  False  False  False   True  False   \n1  False  False  False  False  False  False  False   True  False   \n2  False  False  False  False  False  False  False  False   True   \n3  False  False  False  False  False  False  False  False   True   \n4  False  False   True  False  False  False  False  False  False   \n\n                  Location  \n0  (41.857908, -87.669147)  \n1  (41.857908, -87.669147)  \n2  (41.829353, -87.680622)  \n3  (41.829353, -87.680622)  \n4  (41.831677, -87.625826)  \n"
     ]
    }
   ],
   "source": [
    "#import lstop data\n",
    "lstops = pd.read_csv('../data/lstops.csv', delimiter=',', quotechar='\"')\n",
    "#check column\n",
    "print(lstops['Location'].head())\n",
    "\n",
    "lstops[\"Location\"] = lstops[\"Location\"].str.replace(\"(\",\"\") \n",
    "lstops[\"Location\"] = lstops[\"Location\"].str.replace(\")\",\"\") \n",
    "lat_list = []\n",
    "lon_list = []\n",
    "for each in lstops[\"Location\"]:\n",
    "    x = each.split(\",\")\n",
    "    lat = float(x[0])\n",
    "    lon = float(x[1])\n",
    "    lat_list.append(lat)\n",
    "    lon_list.append(lon)\n",
    "\n",
    "lstops[\"Lat\"] = lat_list\n",
    "lstops[\"Lon\"] = lon_list"
   ]
  },
  {
   "cell_type": "code",
   "execution_count": 8,
   "metadata": {},
   "outputs": [],
   "source": [
    "#import ca to zip data\n",
    "ca_to_zip = pd.read_csv('../data/ca_zip.csv',header=None)\n",
    "ca_to_zip = ca_to_zip.drop(ca_to_zip.index[0])\n",
    "ca_to_zip.columns = [\"Community Area\", \"Zipcode\", \"Pop2010\"]\n"
   ]
  },
  {
   "cell_type": "code",
   "execution_count": 9,
   "metadata": {},
   "outputs": [],
   "source": [
    "#adapted from:\n",
    "#https://gis.stackexchange.com/questions/352961/convert-lat-lon-to-zip-postal-code-using-python?\n",
    "#fbclid=IwAR25An6-uDiY1Lpy5EVPUG15RcrRKj5fL1M86Bt3Svqy_iVRi1YLLfviRT0\n",
    "df = lstops\n",
    "\n",
    "gis = GIS()\n",
    "\n",
    "def get_zip(df, lon_field, lat_field):\n",
    "    location = reverse_geocode((Geometry({\"x\":float(df[lon_field]), \"y\":float(df[lat_field]), \"spatialReference\":{\"wkid\": 4326}})))\n",
    "    return location['address']['Postal']"
   ]
  },
  {
   "cell_type": "code",
   "execution_count": 5,
   "metadata": {},
   "outputs": [],
   "source": [
    "#apply zipcodes\n",
    "lstops[\"zips\"] = df.apply(get_zip, axis=1, lat_field='Lat', lon_field='Lon')\n",
    "#merge based on ca_to_zip\n",
    "lstops = lstops.merge(ca_to_zip, left_on=\"zips\", right_on=\"Zipcode\")\n",
    "#output csv\n",
    "lstops.to_csv(\"../data/lstops_localized.csv\",index=False)"
   ]
  }
 ],
 "metadata": {
  "kernelspec": {
   "name": "python3",
   "display_name": "Python 3.8.1 64-bit",
   "metadata": {
    "interpreter": {
     "hash": "2db524e06e9f5f4ffedc911c917cb75e12dbc923643829bf417064a77eb14d37"
    }
   }
  },
  "language_info": {
   "codemirror_mode": {
    "name": "ipython",
    "version": 3
   },
   "file_extension": ".py",
   "mimetype": "text/x-python",
   "name": "python",
   "nbconvert_exporter": "python",
   "pygments_lexer": "ipython3",
   "version": "3.8.1-final"
  }
 },
 "nbformat": 4,
 "nbformat_minor": 4
}